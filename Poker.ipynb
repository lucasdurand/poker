{
 "cells": [
  {
   "cell_type": "markdown",
   "metadata": {},
   "source": [
    "g# Poker\n",
    "\n",
    "Let's play a game! We only have control of our own `Player`, which is put into a game with other players to gamble our way to glory. In a poker game we can only do a few different things on our turn:\n",
    "\n",
    "* Bet/Call\n",
    "* Check\n",
    "* Fold\n",
    "\n",
    "We're also free to review previous turns (if we are tracking that information) and run analysis"
   ]
  },
  {
   "cell_type": "code",
   "execution_count": null,
   "metadata": {},
   "outputs": [],
   "source": []
  },
  {
   "cell_type": "code",
   "execution_count": 6,
   "metadata": {},
   "outputs": [],
   "source": [
    "class Player():\n",
    "    def action(self):\n",
    "        raise NotImplementedError(\"This player must act!\")\n",
    "\n",
    "    def bet(self, amount:int):\n",
    "        pass\n",
    "    def check(self):\n",
    "        pass\n",
    "    def fold(self):\n",
    "        pass"
   ]
  },
  {
   "cell_type": "markdown",
   "metadata": {},
   "source": [
    "We can see this being used to implement a simple strategy"
   ]
  },
  {
   "cell_type": "code",
   "execution_count": 7,
   "metadata": {},
   "outputs": [],
   "source": [
    "class Player: \n",
    "    def action(self):\n",
    "        if any(card.rank == \"ACE\" for card in self.cards):\n",
    "            return self.bet(amount=self.game.minimum_bet) # push it up a little \n",
    "        elif self.best_hand() > \"TWOPAIR\":\n",
    "            return self.bet(amount=self.chips) # all in!\n",
    "        else:\n",
    "            try:\n",
    "                self.check()\n",
    "            except MinimumBetError:\n",
    "                self.fold()\n",
    "                \n",
    "    def bet(self, amount:int):\n",
    "        pass\n",
    "    def check(self):\n",
    "        pass\n",
    "    def fold(self):\n",
    "        pass\n"
   ]
  },
  {
   "cell_type": "markdown",
   "metadata": {},
   "source": [
    "### The Nuts\n",
    "\n",
    "At the very least an east way to improve our strategy is to know whether we have the best possible hand (colloquially referred to as \"the nuts\") and what the probability is that we have the best hand (assuming we know nothing about other players hands)"
   ]
  },
  {
   "cell_type": "code",
   "execution_count": 8,
   "metadata": {},
   "outputs": [
    {
     "data": {
      "text/plain": [
       "Ellipsis"
      ]
     },
     "execution_count": 8,
     "metadata": {},
     "output_type": "execute_result"
    }
   ],
   "source": [
    "..."
   ]
  },
  {
   "cell_type": "markdown",
   "metadata": {},
   "source": [
    "## Determining a Strategy\n",
    "\n",
    "Instead of writing a naive strategy, let's inform our process with data. A first approach would be to simulate lots of games, see what hands work when, and then do what they do."
   ]
  },
  {
   "cell_type": "markdown",
   "metadata": {},
   "source": [
    "### Simulating Games\n",
    "\n",
    "We want to look at which hands win the most, while considering:\n",
    "\n",
    "* Which hands are the best at various stages in the game\n",
    "* What are the best early cards"
   ]
  },
  {
   "cell_type": "markdown",
   "metadata": {},
   "source": [
    "### Visualizing Patterns\n",
    "\n",
    "..."
   ]
  },
  {
   "cell_type": "markdown",
   "metadata": {},
   "source": [
    "## Historical Data\n",
    "\n",
    "We also have a big chunk of live game data from IRC"
   ]
  },
  {
   "cell_type": "markdown",
   "metadata": {},
   "source": [
    "### BONUS: Some ML? \n",
    "\n",
    "Can we do this with ML?"
   ]
  },
  {
   "cell_type": "markdown",
   "metadata": {},
   "source": []
  }
 ],
 "metadata": {
  "kernelspec": {
   "display_name": "Python 3.9.5 ('poker-wPkV470Y')",
   "language": "python",
   "name": "python3"
  },
  "language_info": {
   "codemirror_mode": {
    "name": "ipython",
    "version": 3
   },
   "file_extension": ".py",
   "mimetype": "text/x-python",
   "name": "python",
   "nbconvert_exporter": "python",
   "pygments_lexer": "ipython3",
   "version": "3.9.5"
  },
  "orig_nbformat": 4,
  "vscode": {
   "interpreter": {
    "hash": "8066482cbc0c67fac48f0379a3bc1b3ade2a591c7e65c24bbc2b42e0b534ae9a"
   }
  }
 },
 "nbformat": 4,
 "nbformat_minor": 2
}
