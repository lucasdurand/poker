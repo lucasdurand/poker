{
 "cells": [
  {
   "cell_type": "code",
   "execution_count": 450,
   "metadata": {},
   "outputs": [],
   "source": [
    "from __future__ import annotations\n",
    "import random\n",
    "from enum import Enum, IntEnum, auto\n",
    "from dataclasses import dataclass\n",
    "from collections import Counter\n",
    "from more_itertools import always_iterable\n",
    "\n",
    "class Suit(Enum):\n",
    "    spade = \"♠\"\n",
    "    diamond = \"♦\"\n",
    "    heart = \"♥\"\n",
    "    club = \"♣\"\n",
    "\n",
    "class Rank(IntEnum):\n",
    "    TWO = 2\n",
    "    THREE = 3\n",
    "    FOUR = 4\n",
    "    FIVE = 5\n",
    "    SIX = 6\n",
    "    SEVEN = 7\n",
    "    EIGHT = 8\n",
    "    NINE = 9\n",
    "    TEN = 10\n",
    "    JACK = 11\n",
    "    QUEEN = 12\n",
    "    KING = 13\n",
    "    ACE = 14\n",
    "\n",
    "class Hands(IntEnum):\n",
    "    HIGH = auto()\n",
    "    PAIR = auto()\n",
    "    TWOPAIR = auto()\n",
    "    THREEOFAKIND = auto()\n",
    "    STRAIGHT = auto()\n",
    "    FLUSH = auto()\n",
    "    FULLHOUSE = auto()\n",
    "    FOUROFAKIND = auto()\n",
    "    STRAIGHTFLUSH = auto()\n",
    "\n",
    "\n",
    "@dataclass\n",
    "class Card:\n",
    "    rank: Rank\n",
    "    suit: Suit\n",
    "\n",
    "    def __repr__(self):\n",
    "        return f\"|{self.rank}{self.suit.value}|\" if self.rank < Rank.JACK \\\n",
    "            else f\"|{self.rank.name[0]}{self.suit.value}|\"\n",
    "    def __gt__(self, other) -> bool:\n",
    "        return self.rank > other.rank\n",
    "        \n",
    "class Hand:\n",
    "    def __init__(self, cards: list[Card]=None):\n",
    "        self.cards = list(always_iterable(cards))\n",
    "    def fold(self):\n",
    "        self.cards = []\n",
    "    def show(self):\n",
    "        return self.cards\n",
    "    def __repr__(self):\n",
    "        return str(self.cards)\n",
    "\n",
    "class Deck:\n",
    "    def __init__(self):\n",
    "        self.cards = [Card(rank=rank, suit=suit) for rank in Rank for suit in Suit]\n",
    "        self.shuffle()\n",
    "    def shuffle(self):\n",
    "        random.shuffle(self.cards)\n",
    "    def deal(self, n=1) -> Card:\n",
    "        return [self.cards.pop() for _ in range(n)]\n",
    "\n",
    "deck = Deck()"
   ]
  },
  {
   "cell_type": "code",
   "execution_count": 451,
   "metadata": {},
   "outputs": [],
   "source": [
    "class Game:\n",
    "    def __init__(self, deck:Deck, *, small_blind:int = 1, big_blind:int = 2, limit:bool = None):\n",
    "        self.deck = deck\n",
    "        self.community_cards = []\n",
    "        self.players = []\n",
    "    def flip(self):\n",
    "        if not len(self.community_cards): # flop\n",
    "            self.community_cards += self.deck.deal(3)\n",
    "        elif len(self.community_cards) < 5: # turn, river\n",
    "            self.community_cards += self.deck.deal(1)\n",
    "        else:\n",
    "            raise ValueError(\"Too many cards! This ain't Texas Hold'em no more!\")\n",
    "    @property\n",
    "    def phase(self):\n",
    "        return {0: \"deal\", 3: \"flop\", 4: \"turn\", 5: \"river\"}.get(len(self.community_cards))\n",
    "    def winner(self):\n",
    "        return max(self.players, key=lambda player: player.best_hand) #TODO this doesn't deal with ties / multiple winners\n",
    "    def __repr__(self):\n",
    "        players = \"\\n* \".join(map(str, sorted(self.players, reverse=True)))\n",
    "        return f\"\"\"Pot: X | Bet: X | Phase: {self.phase.capitalize()}\n",
    "Community Cards: {self.community_cards}\n",
    "---------------------------------------\n",
    "Players: \n",
    "* {players}\n",
    "\"\"\""
   ]
  },
  {
   "cell_type": "code",
   "execution_count": 452,
   "metadata": {},
   "outputs": [],
   "source": [
    "def has_pairs(cards: list[Card]) -> tuple[Hands, list[Card]] | None:\n",
    "    \"\"\"Determine if the set of cards has pairlike hands and return the pair type\n",
    "    \n",
    "    This would be used in conjunction with a sorted hand to determine the winner of a game\"\"\"\n",
    "    pairs = Counter(card.rank for card in cards)\n",
    "    if (four:=pairs.most_common(1)[0])[1] == 4:\n",
    "        rank = four[0]\n",
    "        hand = sorted([card for card in cards if card.rank==rank]) \\\n",
    "            + sorted([card for card in cards if card.rank!=rank], reverse=True)[1]\n",
    "        return Hands.FOUROFAKIND, hand\n",
    "    else:\n",
    "        pairs = {card: count for card, count in pairs.items() if count >=2}\n",
    "        pairscore = sum(pairs.values())\n",
    "        hand_type = {0:Hands.HIGH, 2:Hands.PAIR, 3:Hands.THREEOFAKIND, 4:Hands.TWOPAIR, 5:Hands.FULLHOUSE}.get(pairscore)\n",
    "        hand = sorted([card for card in cards if card.rank in pairs]) \\\n",
    "            + sorted([card for card in cards if card.rank not in pairs], reverse=True)[:5-pairscore]\n",
    "        return hand_type, hand\n",
    "        \n",
    "def has_flush(cards: list[Card]) -> tuple[Hands, list[Card]] | None:\n",
    "    \"\"\"Determine if the cards are a flush and return the hand\n",
    "    \n",
    "    In this case a flush hand is the 5 highest cards in the same suit\"\"\"\n",
    "    suits = Counter(card.suit for card in cards)\n",
    "    suit, count = suits.most_common(1)[0]\n",
    "    if count >=5: # a flush!\n",
    "        hand = sorted((card for card in cards if card.suit == suit), reverse=True)\n",
    "        return (Hands.FLUSH, hand[:5])\n",
    "    else:\n",
    "        return None\n",
    "\n",
    "def drop_none(l: list) -> list:\n",
    "    return [item for item in l if item]"
   ]
  },
  {
   "cell_type": "code",
   "execution_count": 459,
   "metadata": {},
   "outputs": [],
   "source": [
    "class Player:\n",
    "    def __init__(self, name:str, *, game:Game, buy:int = 1000):\n",
    "        self.chips = buy\n",
    "        self.name = name\n",
    "        self.game = game\n",
    "        self.hand = Hand(self.game.deck.deal(2))\n",
    "        self.game.players += [self]\n",
    "    @property\n",
    "    def cards(self):\n",
    "        return self.hand.cards + self.game.community_cards\n",
    "    def bid(self, amount:int):\n",
    "        self.chips -= amount # this won't really work ...\n",
    "    def draw(self, deck:Deck):\n",
    "        self.hand.cards += deck.deal(1)\n",
    "    def fold(self):\n",
    "        self.hand.fold()\n",
    "        self.game.players.remove(self)\n",
    "        \n",
    "    @property\n",
    "    def best_hand(self) -> tuple(Hands, list[Card]):\n",
    "        return max(drop_none([has_flush(self.cards), has_pairs(self.cards)]), key=lambda hand_rank: hand_rank[0])\n",
    "    def __repr__(self):\n",
    "        #return f\"[{self.name} (${self.chips})] {self.cards} --> {self.best_hand}\"\n",
    "        return f\"[{self.name} (${self.chips})] {self.best_hand}\"\n",
    "    def __gt__(self, other) -> bool:\n",
    "        return self.best_hand > other.best_hand"
   ]
  },
  {
   "cell_type": "code",
   "execution_count": 460,
   "metadata": {},
   "outputs": [
    {
     "data": {
      "text/plain": [
       "Pot: X | Bet: X | Phase: Deal\n",
       "Community Cards: []\n",
       "---------------------------------------\n",
       "Players: \n",
       "* [Lucas ($1000)] (<Hands.HIGH: 1>, [|K♠|, |3♣|])\n",
       "* [Liz ($1000)] (<Hands.HIGH: 1>, [|Q♦|, |8♦|])\n",
       "* [Robert ($1000)] (<Hands.HIGH: 1>, [|Q♥|, |8♥|])\n",
       "* [Gio ($1000)] (<Hands.HIGH: 1>, [|Q♣|, |3♦|])\n",
       "* [Taylor ($1000)] (<Hands.HIGH: 1>, [|10♦|, |6♣|])"
      ]
     },
     "execution_count": 460,
     "metadata": {},
     "output_type": "execute_result"
    }
   ],
   "source": [
    "game = Game(deck=Deck())\n",
    "players = [Player(name.capitalize(), game=game) for name in [\"liz\",\"Robert\",\"lucas\",\"gio\",\"taylor\"]]\n",
    "game"
   ]
  },
  {
   "cell_type": "code",
   "execution_count": 461,
   "metadata": {},
   "outputs": [
    {
     "data": {
      "text/plain": [
       "Pot: X | Bet: X | Phase: Flop\n",
       "Community Cards: [|A♥|, |7♥|, |K♥|]\n",
       "---------------------------------------\n",
       "Players: \n",
       "* [Robert ($1000)] (<Hands.FLUSH: 6>, [|A♥|, |K♥|, |Q♥|, |8♥|, |7♥|])\n",
       "* [Lucas ($1000)] (<Hands.PAIR: 2>, [|K♠|, |K♥|, |A♥|, |7♥|, |3♣|])\n",
       "* [Liz ($1000)] (<Hands.HIGH: 1>, [|A♥|, |K♥|, |Q♦|, |8♦|, |7♥|])\n",
       "* [Gio ($1000)] (<Hands.HIGH: 1>, [|A♥|, |K♥|, |Q♣|, |7♥|, |3♦|])\n",
       "* [Taylor ($1000)] (<Hands.HIGH: 1>, [|A♥|, |K♥|, |10♦|, |7♥|, |6♣|])"
      ]
     },
     "execution_count": 461,
     "metadata": {},
     "output_type": "execute_result"
    }
   ],
   "source": [
    "game.flip()\n",
    "game"
   ]
  },
  {
   "cell_type": "code",
   "execution_count": 462,
   "metadata": {},
   "outputs": [
    {
     "data": {
      "text/plain": [
       "Pot: X | Bet: X | Phase: Turn\n",
       "Community Cards: [|A♥|, |7♥|, |K♥|, |J♥|]\n",
       "---------------------------------------\n",
       "Players: \n",
       "* [Robert ($1000)] (<Hands.FLUSH: 6>, [|A♥|, |K♥|, |Q♥|, |J♥|, |8♥|])\n",
       "* [Lucas ($1000)] (<Hands.PAIR: 2>, [|K♠|, |K♥|, |A♥|, |J♥|, |7♥|])\n",
       "* [Liz ($1000)] (<Hands.HIGH: 1>, [|A♥|, |K♥|, |Q♦|, |J♥|, |8♦|])\n",
       "* [Gio ($1000)] (<Hands.HIGH: 1>, [|A♥|, |K♥|, |Q♣|, |J♥|, |7♥|])\n",
       "* [Taylor ($1000)] (<Hands.HIGH: 1>, [|A♥|, |K♥|, |J♥|, |10♦|, |7♥|])"
      ]
     },
     "execution_count": 462,
     "metadata": {},
     "output_type": "execute_result"
    }
   ],
   "source": [
    "game.flip()\n",
    "game\n"
   ]
  },
  {
   "cell_type": "code",
   "execution_count": 463,
   "metadata": {},
   "outputs": [
    {
     "data": {
      "text/plain": [
       "Pot: X | Bet: X | Phase: River\n",
       "Community Cards: [|A♥|, |7♥|, |K♥|, |J♥|, |6♥|]\n",
       "---------------------------------------\n",
       "Players: \n",
       "* [Robert ($1000)] (<Hands.FLUSH: 6>, [|A♥|, |K♥|, |Q♥|, |J♥|, |8♥|])\n",
       "* [Liz ($1000)] (<Hands.FLUSH: 6>, [|A♥|, |K♥|, |J♥|, |7♥|, |6♥|])\n",
       "* [Lucas ($1000)] (<Hands.FLUSH: 6>, [|A♥|, |K♥|, |J♥|, |7♥|, |6♥|])\n",
       "* [Gio ($1000)] (<Hands.FLUSH: 6>, [|A♥|, |K♥|, |J♥|, |7♥|, |6♥|])\n",
       "* [Taylor ($1000)] (<Hands.FLUSH: 6>, [|A♥|, |K♥|, |J♥|, |7♥|, |6♥|])"
      ]
     },
     "execution_count": 463,
     "metadata": {},
     "output_type": "execute_result"
    }
   ],
   "source": [
    "game.flip()\n",
    "game"
   ]
  },
  {
   "cell_type": "code",
   "execution_count": 486,
   "metadata": {},
   "outputs": [
    {
     "data": {
      "text/plain": [
       "[Robert ($1000)] (<Hands.FLUSH: 6>, [|A♥|, |K♥|, |Q♥|, |J♥|, |8♥|])"
      ]
     },
     "execution_count": 486,
     "metadata": {},
     "output_type": "execute_result"
    }
   ],
   "source": [
    "game.winner()"
   ]
  }
 ],
 "metadata": {
  "kernelspec": {
   "display_name": "Python 3.9.5 ('poker-wPkV470Y')",
   "language": "python",
   "name": "python3"
  },
  "language_info": {
   "codemirror_mode": {
    "name": "ipython",
    "version": 3
   },
   "file_extension": ".py",
   "mimetype": "text/x-python",
   "name": "python",
   "nbconvert_exporter": "python",
   "pygments_lexer": "ipython3",
   "version": "3.9.5"
  },
  "orig_nbformat": 4,
  "vscode": {
   "interpreter": {
    "hash": "8066482cbc0c67fac48f0379a3bc1b3ade2a591c7e65c24bbc2b42e0b534ae9a"
   }
  }
 },
 "nbformat": 4,
 "nbformat_minor": 2
}
